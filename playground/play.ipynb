{
 "cells": [
  {
   "cell_type": "code",
   "execution_count": 4,
   "metadata": {},
   "outputs": [],
   "source": [
    "import pandas as pd\n",
    "import numpy as np"
   ]
  },
  {
   "cell_type": "code",
   "execution_count": 17,
   "metadata": {},
   "outputs": [],
   "source": [
    "T = np.array([[ 9.99067617e-01,  4.80243898e-04, -4.31702045e-02, -6.63156313e-02],\n",
    "     [-3.73410916e-04,  9.99996848e-01,  2.48272232e-03, -4.95114091e-04],\n",
    "     [ 4.31712607e-02, -2.46428724e-03,  9.99064647e-01, -9.97798582e-01],\n",
    "     [ 0.00000000e+00,  0.00000000e+00,  0.00000000e+00,  1.00000000e+00]])"
   ]
  },
  {
   "cell_type": "code",
   "execution_count": 18,
   "metadata": {},
   "outputs": [
    {
     "data": {
      "text/plain": [
       "array([[ 9.99067617e-01,  4.80243898e-04, -4.31702045e-02],\n",
       "       [-3.73410916e-04,  9.99996848e-01,  2.48272232e-03],\n",
       "       [ 4.31712607e-02, -2.46428724e-03,  9.99064647e-01]])"
      ]
     },
     "execution_count": 18,
     "metadata": {},
     "output_type": "execute_result"
    }
   ],
   "source": [
    "T[0:3,0:3]"
   ]
  },
  {
   "cell_type": "code",
   "execution_count": 22,
   "metadata": {},
   "outputs": [
    {
     "data": {
      "text/plain": [
       "'  hi'"
      ]
     },
     "execution_count": 22,
     "metadata": {},
     "output_type": "execute_result"
    }
   ],
   "source": [
    "'hi'.rjust(5)"
   ]
  }
 ],
 "metadata": {
  "kernelspec": {
   "display_name": "Python 3",
   "language": "python",
   "name": "python3"
  },
  "language_info": {
   "codemirror_mode": {
    "name": "ipython",
    "version": 3
   },
   "file_extension": ".py",
   "mimetype": "text/x-python",
   "name": "python",
   "nbconvert_exporter": "python",
   "pygments_lexer": "ipython3",
   "version": "3.8.10"
  },
  "orig_nbformat": 4
 },
 "nbformat": 4,
 "nbformat_minor": 2
}
